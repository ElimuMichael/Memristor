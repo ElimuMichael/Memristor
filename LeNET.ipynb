{
 "cells": [
  {
   "cell_type": "code",
   "execution_count": 1,
   "metadata": {
    "scrolled": true
   },
   "outputs": [
    {
     "name": "stderr",
     "output_type": "stream",
     "text": [
      "c:\\program files\\python36\\lib\\site-packages\\h5py\\__init__.py:36: FutureWarning: Conversion of the second argument of issubdtype from `float` to `np.floating` is deprecated. In future, it will be treated as `np.float64 == np.dtype(float).type`.\n",
      "  from ._conv import register_converters as _register_converters\n",
      "Using TensorFlow backend.\n"
     ]
    },
    {
     "name": "stdout",
     "output_type": "stream",
     "text": [
      "_________________________________________________________________\n",
      "Layer (type)                 Output Shape              Param #   \n",
      "=================================================================\n",
      "conv2d_1 (Conv2D)            (None, 28, 28, 6)         156       \n",
      "_________________________________________________________________\n",
      "activation_1 (Activation)    (None, 28, 28, 6)         0         \n",
      "_________________________________________________________________\n",
      "max_pooling2d_1 (MaxPooling2 (None, 14, 14, 6)         0         \n",
      "_________________________________________________________________\n",
      "conv2d_2 (Conv2D)            (None, 14, 14, 16)        2416      \n",
      "_________________________________________________________________\n",
      "activation_2 (Activation)    (None, 14, 14, 16)        0         \n",
      "_________________________________________________________________\n",
      "max_pooling2d_2 (MaxPooling2 (None, 7, 7, 16)          0         \n",
      "_________________________________________________________________\n",
      "conv2d_3 (Conv2D)            (None, 3, 3, 120)         48120     \n",
      "_________________________________________________________________\n",
      "activation_3 (Activation)    (None, 3, 3, 120)         0         \n",
      "_________________________________________________________________\n",
      "dropout_1 (Dropout)          (None, 3, 3, 120)         0         \n",
      "_________________________________________________________________\n",
      "flatten_1 (Flatten)          (None, 1080)              0         \n",
      "_________________________________________________________________\n",
      "dense_1 (Dense)              (None, 84)                90804     \n",
      "_________________________________________________________________\n",
      "activation_4 (Activation)    (None, 84)                0         \n",
      "_________________________________________________________________\n",
      "dropout_2 (Dropout)          (None, 84)                0         \n",
      "_________________________________________________________________\n",
      "dense_2 (Dense)              (None, 10)                850       \n",
      "_________________________________________________________________\n",
      "activation_5 (Activation)    (None, 10)                0         \n",
      "=================================================================\n",
      "Total params: 142,346\n",
      "Trainable params: 142,346\n",
      "Non-trainable params: 0\n",
      "_________________________________________________________________\n",
      "None\n"
     ]
    }
   ],
   "source": [
    "from keras import layers\n",
    "from keras.datasets import mnist\n",
    "from keras.models import Sequential\n",
    "from keras.layers import Input,Dropout, BatchNormalization, Dense, Conv2D, MaxPool2D, AveragePooling2D, Flatten,MaxPooling2D, Activation, GlobalMaxPooling2D, ZeroPadding2D, GlobalAveragePooling2D\n",
    "from keras.utils import to_categorical\n",
    "from keras.models import Model\n",
    "from keras.preprocessing import image\n",
    "import keras.backend as K\n",
    "from keras.utils import layer_utils\n",
    "from keras.utils.data_utils import get_file\n",
    "\n",
    "import matplotlib.pyplot as plt\n",
    "import numpy as np\n",
    "\n",
    "(X_train, y_train), (X_test, y_test) = mnist.load_data()\n",
    "\n",
    "# Convert the Targets to Categorical values\n",
    "y_train_cat = to_categorical(y_train)\n",
    "y_test_cat = to_categorical(y_test)\n",
    "\n",
    "# Reshape Training and Test Datasets\n",
    "X_train = X_train.reshape(-1, 28, 28, 1)\n",
    "X_test = X_test.reshape(-1, 28, 28, 1)\n",
    "\n",
    "# Build The Model\n",
    "model = Sequential()\n",
    "model.add(Conv2D(6, kernel_size=(5, 5), input_shape=(28, 28, 1), padding=\"same\"))\n",
    "model.add(Activation('relu'))\n",
    "model.add(MaxPool2D(pool_size=(2, 2)))\n",
    "model.add(Conv2D(16, kernel_size=(5, 5), padding=\"same\"))\n",
    "model.add(Activation('relu'))\n",
    "model.add(MaxPool2D(pool_size=(2, 2)))\n",
    "model.add(Conv2D(120, kernel_size=(5, 5)))\n",
    "model.add(Activation('relu'))\n",
    "model.add(Dropout(0.25))\n",
    "\n",
    "model.add(Flatten())\n",
    "model.add(Dense(84))\n",
    "model.add(Activation('relu'))\n",
    "model.add(Dropout(0.5))\n",
    "model.add(Dense(10))\n",
    "model.add(Activation('softmax'))\n",
    "\n",
    "\n",
    "#####################################\n",
    "#     MEMRISTOR WEIGHTS MODEL       #\n",
    "#####################################\n",
    "#weights = np.load(weight_file)\n",
    "#model.set_weights(weights)\n",
    "\n",
    "model.compile(loss='categorical_crossentropy',optimizer='adadelta', metrics=['accuracy'])\n",
    "\n",
    "#####################################\n",
    "#           MODEL SUMMARY           #\n",
    "#####################################\n",
    "print(model.summary())\n"
   ]
  },
  {
   "cell_type": "code",
   "execution_count": 19,
   "metadata": {
    "scrolled": false
   },
   "outputs": [
    {
     "name": "stdout",
     "output_type": "stream",
     "text": [
      "Train on 48000 samples, validate on 12000 samples\n",
      "Epoch 1/15\n",
      "48000/48000 [==============================] - 78s 2ms/step - loss: 1.1071 - acc: 0.8305 - val_loss: 0.1294 - val_acc: 0.9626\n",
      "Epoch 2/15\n",
      "48000/48000 [==============================] - 82s 2ms/step - loss: 0.1532 - acc: 0.9587 - val_loss: 0.0677 - val_acc: 0.9824\n",
      "Epoch 3/15\n",
      "48000/48000 [==============================] - 97s 2ms/step - loss: 0.1026 - acc: 0.9721 - val_loss: 0.0585 - val_acc: 0.9838\n",
      "Epoch 4/15\n",
      "48000/48000 [==============================] - 82s 2ms/step - loss: 0.0817 - acc: 0.9772 - val_loss: 0.0547 - val_acc: 0.9857\n",
      "Epoch 5/15\n",
      "48000/48000 [==============================] - 80s 2ms/step - loss: 0.0662 - acc: 0.9824 - val_loss: 0.0563 - val_acc: 0.9845\n",
      "Epoch 6/15\n",
      "48000/48000 [==============================] - 77s 2ms/step - loss: 0.0549 - acc: 0.9845 - val_loss: 0.0576 - val_acc: 0.9862\n",
      "Epoch 7/15\n",
      "48000/48000 [==============================] - 87s 2ms/step - loss: 0.0485 - acc: 0.9863 - val_loss: 0.0584 - val_acc: 0.9848\n",
      "Epoch 8/15\n",
      "48000/48000 [==============================] - 85s 2ms/step - loss: 0.0435 - acc: 0.9880 - val_loss: 0.0543 - val_acc: 0.9883\n",
      "Epoch 9/15\n",
      "48000/48000 [==============================] - 89s 2ms/step - loss: 0.0396 - acc: 0.9891 - val_loss: 0.0523 - val_acc: 0.9880\n",
      "Epoch 10/15\n",
      "48000/48000 [==============================] - 94s 2ms/step - loss: 0.0367 - acc: 0.9895 - val_loss: 0.0498 - val_acc: 0.9887\n",
      "Epoch 11/15\n",
      "48000/48000 [==============================] - 83s 2ms/step - loss: 0.0328 - acc: 0.9912 - val_loss: 0.0657 - val_acc: 0.9857\n",
      "Epoch 12/15\n",
      "48000/48000 [==============================] - 86s 2ms/step - loss: 0.0270 - acc: 0.9920 - val_loss: 0.0523 - val_acc: 0.9887\n",
      "Epoch 13/15\n",
      "48000/48000 [==============================] - 99s 2ms/step - loss: 0.0268 - acc: 0.9925 - val_loss: 0.0636 - val_acc: 0.9869\n",
      "Epoch 14/15\n",
      "48000/48000 [==============================] - 98s 2ms/step - loss: 0.0278 - acc: 0.9918 - val_loss: 0.0576 - val_acc: 0.9873\n",
      "Epoch 15/15\n",
      "48000/48000 [==============================] - 79s 2ms/step - loss: 0.0225 - acc: 0.9931 - val_loss: 0.0556 - val_acc: 0.9902\n"
     ]
    }
   ],
   "source": [
    "h=model.fit(X_train, y_train_cat, batch_size=128, epochs=15, verbose=1,validation_split=0.2)"
   ]
  },
  {
   "cell_type": "code",
   "execution_count": 25,
   "metadata": {},
   "outputs": [
    {
     "name": "stdout",
     "output_type": "stream",
     "text": [
      "10000/10000 [==============================] - 4s 444us/step\n"
     ]
    },
    {
     "data": {
      "text/plain": [
       "[0.047384214390844594, 0.9894]"
      ]
     },
     "execution_count": 25,
     "metadata": {},
     "output_type": "execute_result"
    }
   ],
   "source": [
    "# Test Model Accuracy\n",
    "Accuracy = model.evaluate(X_test, y_test_cat)\n",
    "Accuracy"
   ]
  },
  {
   "cell_type": "code",
   "execution_count": null,
   "metadata": {},
   "outputs": [],
   "source": [
    "h=model.fit(X_train, y_train_cat, batch_size=128, epochs=15, verbose=1,validation_split=0.2, )"
   ]
  },
  {
   "cell_type": "code",
   "execution_count": 21,
   "metadata": {},
   "outputs": [
    {
     "data": {
      "image/png": "[encoded data removed]",
      "text/plain": [
       "<Figure size 720x720 with 6 Axes>"
      ]
     },
     "metadata": {},
     "output_type": "display_data"
    }
   ],
   "source": [
    "# Visualize Results\n",
    "res = model.predict_classes(X_test[:6])\n",
    "plt.style.use('ggplot')\n",
    "plt.figure(figsize=(10, 10))\n",
    "\n",
    "for i in range(6):\n",
    "    plt.subplot(1, 6, i+1)\n",
    "    plt.imshow(X_test[i, :,:].reshape((28,28)), cmap='gray')\n",
    "    plt.gca().get_xaxis().set_ticks([])\n",
    "    plt.gca().get_yaxis().set_ticks([])\n",
    "    plt.xlabel('Pred: %d' % res[i])\n",
    "plt.show()"
   ]
  },
  {
   "cell_type": "code",
   "execution_count": 22,
   "metadata": {},
   "outputs": [
    {
     "data": {
      "text/plain": [
       "Text(0.5,0,'Epochs')"
      ]
     },
     "execution_count": 22,
     "metadata": {},
     "output_type": "execute_result"
    },
    {
     "data": {
      "image/png": "[encoded data removed]",
      "text/plain": [
       "<Figure size 432x288 with 1 Axes>"
      ]
     },
     "metadata": {},
     "output_type": "display_data"
    }
   ],
   "source": [
    "plt.plot(h.history['acc'])\n",
    "plt.plot(h.history['val_acc'])\n",
    "plt.legend(['Training', 'Validation'])\n",
    "plt.title('Accuracy Measure')\n",
    "plt.xlabel('Epochs')"
   ]
  },
  {
   "cell_type": "code",
   "execution_count": 23,
   "metadata": {},
   "outputs": [
    {
     "data": {
      "text/plain": [
       "Text(0.5,0,'Epochs')"
      ]
     },
     "execution_count": 23,
     "metadata": {},
     "output_type": "execute_result"
    },
    {
     "data": {
      "image/png": "[encoded data removed]",
      "text/plain": [
       "<Figure size 432x288 with 1 Axes>"
      ]
     },
     "metadata": {},
     "output_type": "display_data"
    }
   ],
   "source": [
    "plt.plot(h.history['loss'])\n",
    "plt.plot(h.history['val_loss'])\n",
    "plt.legend(['Training', 'Validation'])\n",
    "plt.title('Loss Measure')\n",
    "plt.xlabel('Epochs')"
   ]
  },
  {
   "cell_type": "code",
   "execution_count": 24,
   "metadata": {},
   "outputs": [],
   "source": [
    "# filename='weights_LeNET_npy.npy'\n",
    "# np.save(filename, model.get_weights())"
   ]
  },
  {
   "cell_type": "code",
   "execution_count": null,
   "metadata": {},
   "outputs": [],
   "source": []
  }
 ],
 "metadata": {
  "kernelspec": {
   "display_name": "Python 3",
   "language": "python",
   "name": "python3"
  },
  "language_info": {
   "codemirror_mode": {
    "name": "ipython",
    "version": 3
   },
   "file_extension": ".py",
   "mimetype": "text/x-python",
   "name": "python",
   "nbconvert_exporter": "python",
   "pygments_lexer": "ipython3",
   "version": "3.6.4"
  }
 },
 "nbformat": 4,
 "nbformat_minor": 2
}
